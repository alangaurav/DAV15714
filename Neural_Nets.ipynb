{
  "nbformat": 4,
  "nbformat_minor": 0,
  "metadata": {
    "colab": {
      "provenance": [],
      "gpuType": "T4",
      "mount_file_id": "1SoiuxnSTO6L36UPYJFTPpWvrs5vRdYMY",
      "authorship_tag": "ABX9TyNdm3sCI+6Ikdiqi1OrWruH",
      "include_colab_link": true
    },
    "kernelspec": {
      "name": "python3",
      "display_name": "Python 3"
    },
    "language_info": {
      "name": "python"
    }
  },
  "cells": [
    {
      "cell_type": "markdown",
      "metadata": {
        "id": "view-in-github",
        "colab_type": "text"
      },
      "source": [
        "<a href=\"https://colab.research.google.com/github/alangaurav/DAV15714/blob/master/Neural_Nets.ipynb\" target=\"_parent\"><img src=\"https://colab.research.google.com/assets/colab-badge.svg\" alt=\"Open In Colab\"/></a>"
      ]
    },
    {
      "cell_type": "markdown",
      "source": [
        "## Week 7: Neural nets using sklearn"
      ],
      "metadata": {
        "id": "d0XnvlqVTSR3"
      }
    },
    {
      "cell_type": "code",
      "source": [
        "# Standard imports\n",
        "import pandas as pd\n",
        "import numpy as np\n",
        "import matplotlib.pyplot as plt\n",
        "from sklearn.model_selection import train_test_split\n",
        "from sklearn.preprocessing import StandardScaler, MinMaxScaler\n",
        "from sklearn.neural_network import MLPClassifier, MLPRegressor\n",
        "from sklearn.svm import LinearSVC\n",
        "from sklearn.metrics import classification_report,confusion_matrix, f1_score, precision_score, mean_squared_log_error, r2_score\n",
        "from sklearn.metrics import ConfusionMatrixDisplay"
      ],
      "metadata": {
        "id": "07mmgICfTb9P"
      },
      "execution_count": 1,
      "outputs": []
    },
    {
      "cell_type": "markdown",
      "source": [
        "### MLP Classification"
      ],
      "metadata": {
        "id": "uG71YRzmTZoJ"
      }
    },
    {
      "cell_type": "code",
      "execution_count": 3,
      "metadata": {
        "colab": {
          "base_uri": "https://localhost:8080/",
          "height": 623
        },
        "id": "Tun137q0TNNf",
        "outputId": "15565ff7-ef92-4003-88e7-0c640c11ad5f"
      },
      "outputs": [
        {
          "output_type": "stream",
          "name": "stdout",
          "text": [
            "              precision    recall  f1-score   support\n",
            "\n",
            "      setosa       1.00      1.00      1.00        11\n",
            "  versicolor       1.00      1.00      1.00        13\n",
            "   virginica       1.00      1.00      1.00         6\n",
            "\n",
            "    accuracy                           1.00        30\n",
            "   macro avg       1.00      1.00      1.00        30\n",
            "weighted avg       1.00      1.00      1.00        30\n",
            "\n"
          ]
        },
        {
          "output_type": "display_data",
          "data": {
            "text/plain": [
              "<Figure size 640x480 with 2 Axes>"
            ],
            "image/png": "[encoded data removed]"
          },
          "metadata": {}
        }
      ],
      "source": [
        "iris_data = pd.read_csv('/content/drive/MyDrive/DAV Lab/Week Seven/data/iris.txt')\n",
        "X = iris_data.drop('species', axis=1)\n",
        "y = iris_data['species']\n",
        "\n",
        "X_train, X_test, y_train, y_test = train_test_split(X, y, test_size=0.2, random_state=0)\n",
        "\n",
        "# Preprocessing: Normalise the features\n",
        "scaler = StandardScaler()\n",
        "X_train_norm = scaler.fit_transform(X_train)\n",
        "X_test_norm = scaler.transform(X_test)\n",
        "\n",
        "# Train model\n",
        "model = MLPClassifier(hidden_layer_sizes=(5, 7, 9, 4), max_iter=2000)\n",
        "model.fit(X_train_norm, y_train)\n",
        "\n",
        "# Predict on test\n",
        "y_preds = model.predict(X_test_norm)\n",
        "\n",
        "# Evaluate the model\n",
        "conf_mat = confusion_matrix(y_test, y_preds)\n",
        "cmd = ConfusionMatrixDisplay(conf_mat)\n",
        "print(classification_report(y_test, y_preds))\n",
        "cmd.plot()\n",
        "plt.show()"
      ]
    },
    {
      "cell_type": "code",
      "source": [
        "# Use the wine dataset\n",
        "wine = pd.read_csv('/content/drive/MyDrive/DAV Lab/Week Seven/data/wine.txt', delimiter=',')\n",
        "X = wine.drop('Wine', axis=1)\n",
        "y = wine['Wine']\n",
        "X_train, X_test, y_train, y_test = train_test_split(X, y, test_size=0.2, random_state=0)\n",
        "\n",
        "# Normalise the data\n",
        "scaler = MinMaxScaler()\n",
        "X_train_norm = scaler.fit_transform(X_train)\n",
        "X_test_norm = scaler.transform(X_test)\n",
        "\n",
        "# Train the model\n",
        "model = MLPClassifier(hidden_layer_sizes=(12, 10, 8, 6) ,random_state=0, max_iter=500)\n",
        "model.fit(X_train_norm, y_train)\n",
        "\n",
        "# Predict on test\n",
        "y_preds = model.predict(X_test_norm)\n",
        "\n",
        "# Evaluate the model\n",
        "conf_mat = confusion_matrix(y_test, y_preds, normalize='true')\n",
        "cmd = ConfusionMatrixDisplay(conf_mat)\n",
        "print(classification_report(y_test, y_preds))\n",
        "cmd.plot()\n",
        "plt.show()\n",
        "print(f'Model coefficients: {model.coefs_}')\n",
        "print(f'Model intercepts: {model.intercepts_}')"
      ],
      "metadata": {
        "colab": {
          "base_uri": "https://localhost:8080/",
          "height": 1000
        },
        "id": "Aaze-_X0cFaO",
        "outputId": "7408b5dd-b2f9-42de-dbcf-7758d790981b"
      },
      "execution_count": 4,
      "outputs": [
        {
          "output_type": "stream",
          "name": "stderr",
          "text": [
            "/usr/local/lib/python3.11/dist-packages/sklearn/neural_network/_multilayer_perceptron.py:691: ConvergenceWarning: Stochastic Optimizer: Maximum iterations (500) reached and the optimization hasn't converged yet.\n",
            "  warnings.warn(\n"
          ]
        },
        {
          "output_type": "stream",
          "name": "stdout",
          "text": [
            "              precision    recall  f1-score   support\n",
            "\n",
            "           1       1.00      1.00      1.00        14\n",
            "           2       1.00      1.00      1.00        16\n",
            "           3       1.00      1.00      1.00         6\n",
            "\n",
            "    accuracy                           1.00        36\n",
            "   macro avg       1.00      1.00      1.00        36\n",
            "weighted avg       1.00      1.00      1.00        36\n",
            "\n"
          ]
        },
        {
          "output_type": "display_data",
          "data": {
            "text/plain": [
              "<Figure size 640x480 with 2 Axes>"
            ],
            "image/png": "[encoded data removed]"
          },
          "metadata": {}
        },
        {
          "output_type": "stream",
          "name": "stdout",
          "text": [
            "Model coefficients: [array([[-5.13824512e-03,  4.47788955e-01, -3.18181781e-01,\n",
            "         5.50556409e-08, -3.25426649e-01,  5.07907950e-03,\n",
            "        -4.98129078e-01,  5.72231799e-01,  7.95825395e-01,\n",
            "         8.84947561e-03,  2.94924534e-02,  6.37910320e-02],\n",
            "       [ 1.83237803e-01,  4.66962152e-01, -2.11374169e-01,\n",
            "        -8.82492462e-02, -3.41996781e-01,  1.68650481e-01,\n",
            "         3.59930965e-01,  4.69763666e-01,  6.16379465e-01,\n",
            "         2.62143949e-01, -5.17371562e-09,  2.84027564e-01],\n",
            "       [-2.22672700e-01,  4.30390686e-01, -6.52746572e-01,\n",
            "         1.07663754e-01, -1.97676451e-01, -1.33132718e-01,\n",
            "        -6.23769555e-01,  3.51696088e-01,  3.86753964e-01,\n",
            "         2.13583421e-01, -1.31521326e-01,  6.07526174e-02],\n",
            "       [ 4.12362725e-01,  1.85712926e-01,  6.97521771e-01,\n",
            "         3.80224543e-03,  2.32467193e-01, -1.17894404e-01,\n",
            "         4.96012927e-01, -3.36302110e-01,  1.90918541e-01,\n",
            "         3.74840612e-01, -2.87303894e-02, -2.81045094e-01],\n",
            "       [ 7.24679824e-02,  9.61735989e-02,  9.58849161e-02,\n",
            "        -1.57043902e-06,  4.85834551e-01, -4.05028609e-01,\n",
            "        -4.60016159e-01, -1.30734276e-01,  3.29547650e-01,\n",
            "        -2.04398459e-02,  9.88806159e-10, -1.43883927e-01],\n",
            "       [-3.63260259e-01, -2.73593434e-01,  3.51113965e-02,\n",
            "        -6.02086308e-02, -7.28719345e-02, -1.65780860e-01,\n",
            "         6.24289203e-02, -1.45494318e-02,  4.81033405e-01,\n",
            "        -4.30856941e-01,  1.28334650e-01,  1.53337676e-01],\n",
            "       [ 5.70627392e-02, -2.12752014e-01,  3.19229220e-01,\n",
            "        -1.18014004e-01,  9.45261030e-02, -2.48575340e-01,\n",
            "         4.88303476e-04,  1.30642617e-01, -1.62232730e-01,\n",
            "        -4.35693430e-01, -1.02146712e-01,  4.50163053e-01],\n",
            "       [ 2.99931649e-01, -3.72914738e-02,  2.17432024e-01,\n",
            "        -8.42726829e-02,  1.53981271e-01,  2.60726143e-01,\n",
            "        -1.86946740e-01,  1.79264859e-01, -1.09190836e-01,\n",
            "         3.61328634e-01, -7.77348046e-03, -1.72607500e-01],\n",
            "       [ 3.74001929e-03, -2.15174888e-01,  1.79336674e-01,\n",
            "        -1.41113860e-01,  2.62456662e-01, -2.49888262e-01,\n",
            "         5.56238069e-01,  6.83768180e-01,  1.62277287e-01,\n",
            "        -5.06452193e-02,  4.92756693e-05,  2.09982844e-01],\n",
            "       [-6.05055665e-02,  7.11297851e-01, -4.57308873e-01,\n",
            "         5.26171672e-02, -2.32834525e-01, -2.22591031e-01,\n",
            "        -2.56860183e-01, -3.40481381e-01,  6.90348811e-01,\n",
            "         2.92146535e-01,  7.06465720e-02, -1.00639908e-01],\n",
            "       [ 9.04467926e-02, -3.00962982e-01,  7.58169491e-01,\n",
            "         1.04228415e-03,  2.73818287e-01,  1.84695616e-02,\n",
            "         1.34825744e-01,  1.93366500e-01, -2.89774056e-01,\n",
            "        -3.66560374e-01,  2.94736886e-04,  2.36632712e-01],\n",
            "       [-5.12421632e-01, -3.38203382e-01,  1.63981824e-01,\n",
            "         4.46581886e-05,  2.64840588e-01,  5.45279053e-02,\n",
            "         3.23259214e-01,  3.32883620e-01,  2.48038142e-01,\n",
            "        -3.46881346e-01, -2.35984617e-06,  5.68635769e-01],\n",
            "       [-2.54621766e-02,  5.27038864e-01, -7.47474718e-01,\n",
            "         9.21731909e-02, -1.14196695e-01,  3.26578585e-01,\n",
            "        -8.00200983e-01,  6.66356646e-01,  2.81913967e-01,\n",
            "        -6.94881721e-02, -6.76673917e-02,  4.63725857e-01]]), array([[ 5.90633563e-01,  1.50865789e-02,  3.51539697e-01,\n",
            "        -5.44878812e-01, -4.52920491e-01, -1.53616428e-01,\n",
            "         4.48546922e-01, -3.04361864e-02, -2.26228387e-03,\n",
            "         7.50591080e-01],\n",
            "       [-2.57282167e-01, -7.02479432e-01, -5.54588457e-01,\n",
            "         1.60528617e-01,  4.22878148e-01, -2.51831038e-02,\n",
            "         6.55688405e-01,  3.57626100e-04,  3.78685471e-09,\n",
            "         2.46869304e-01],\n",
            "       [ 6.70393416e-01,  2.69319890e-01,  4.07724679e-01,\n",
            "        -4.28633374e-01, -8.15016387e-01,  1.26496524e-01,\n",
            "        -2.54284931e-01, -5.21952611e-13, -2.90760859e-02,\n",
            "        -1.06421403e-01],\n",
            "       [-1.24797078e-01, -5.13337803e-06, -6.19018756e-03,\n",
            "         7.55551159e-03, -5.63533069e-04, -5.03125685e-02,\n",
            "        -1.49010194e-01, -1.18340317e-01,  4.90264271e-03,\n",
            "        -1.69299845e-07],\n",
            "       [ 4.17562995e-01,  6.16139269e-01,  8.29097602e-01,\n",
            "        -1.95015653e-01, -1.38792860e-01, -1.69586462e-02,\n",
            "        -3.22646911e-01,  2.38678101e-02, -4.98284201e-03,\n",
            "         3.84859331e-01],\n",
            "       [ 2.36612517e-02,  2.25972993e-01,  4.41091024e-02,\n",
            "         2.59269408e-01, -9.15233795e-02,  3.97031460e-02,\n",
            "        -1.84656065e-01,  1.32510418e-01,  6.07829463e-03,\n",
            "        -1.50735431e-01],\n",
            "       [ 8.41681320e-01,  5.82462808e-01,  3.05195850e-01,\n",
            "        -5.75105561e-01, -4.04313451e-01, -1.48277768e-01,\n",
            "        -5.47010471e-01, -1.66490463e-05, -6.75900449e-04,\n",
            "         5.34052167e-01],\n",
            "       [-1.44833259e-01,  1.98601869e-01,  6.83876811e-01,\n",
            "         1.65491045e-01,  2.40251223e-01, -7.64046335e-02,\n",
            "         4.47559594e-01, -1.91410236e-04,  5.02266732e-06,\n",
            "        -1.36377120e-01],\n",
            "       [-3.29620754e-01,  3.89562540e-02, -3.20920187e-02,\n",
            "         6.83168734e-01,  4.74172208e-01,  2.06161353e-02,\n",
            "         6.36439954e-01, -1.07287864e-01,  6.00592294e-07,\n",
            "         2.68652480e-01],\n",
            "       [ 5.79355497e-01, -4.20361851e-01, -5.08396171e-01,\n",
            "        -6.98689744e-01, -2.31971332e-01,  1.16110797e-01,\n",
            "         3.73848827e-01,  3.41193971e-02, -1.21132274e-02,\n",
            "         3.55405198e-01],\n",
            "       [-1.20634676e-01, -3.92555004e-11,  1.50631969e-01,\n",
            "         8.15665722e-02, -2.89116961e-03,  1.38870919e-01,\n",
            "        -2.74485405e-02,  1.30019325e-01,  1.24378462e-01,\n",
            "         4.02233253e-02],\n",
            "       [-1.12049173e-02,  5.39373027e-01,  1.46130724e-01,\n",
            "         7.32740326e-01,  7.65403192e-02, -1.57601795e-01,\n",
            "        -1.65251473e-01, -6.70852476e-02,  1.53880363e-01,\n",
            "        -4.85858198e-01]]), array([[ 7.23891122e-01,  4.21267092e-01,  8.20540522e-01,\n",
            "        -1.90676316e-01, -6.46698168e-01, -1.39995696e-01,\n",
            "        -2.34451498e-01,  2.15739305e-01],\n",
            "       [ 4.52689228e-02, -4.38216909e-01,  6.04935545e-01,\n",
            "        -7.00880827e-01,  5.00099387e-01, -9.01445681e-02,\n",
            "        -6.54328956e-01, -7.45870106e-02],\n",
            "       [ 3.29356363e-01, -1.86431538e-01,  4.60334895e-01,\n",
            "        -1.91737487e-01,  7.13881267e-01,  2.13770728e-02,\n",
            "        -5.22663852e-01,  8.38697096e-02],\n",
            "       [-4.45629717e-01, -4.73952472e-02, -4.31382937e-01,\n",
            "         1.88882343e-01,  7.10812586e-01,  1.16436712e-02,\n",
            "        -3.86147832e-01, -4.24394363e-01],\n",
            "       [-4.57734116e-01,  2.15232836e-01, -7.35323291e-01,\n",
            "         4.86014268e-01,  1.86031342e-01,  4.36676572e-02,\n",
            "         3.80096056e-02, -2.19155282e-01],\n",
            "       [ 1.15892382e-04, -2.14256212e-02, -1.44366416e-03,\n",
            "        -5.78009745e-02, -1.04315158e-07, -1.70368165e-01,\n",
            "         5.59646167e-02, -1.43359109e-01],\n",
            "       [ 5.10235524e-02, -2.11067055e-01, -1.70445894e-01,\n",
            "         7.59460715e-01, -5.48983213e-03, -1.78322170e-01,\n",
            "         1.86785807e-01, -3.11647733e-02],\n",
            "       [ 2.78960358e-08,  8.32682431e-03, -1.97306130e-02,\n",
            "        -1.03102945e-01, -4.65410592e-04,  1.71238847e-01,\n",
            "        -6.37485898e-02,  1.28094285e-01],\n",
            "       [ 2.76381695e-07, -2.31351072e-07,  1.11200212e-01,\n",
            "        -1.48477767e-07,  2.03479618e-02, -3.11625512e-04,\n",
            "         1.28141856e-01,  1.02581126e-02],\n",
            "       [ 4.14316563e-01, -1.92576649e-01,  3.02593339e-01,\n",
            "         3.72137753e-01, -4.10978410e-01, -8.08261524e-02,\n",
            "         5.41849261e-01,  7.74288148e-01]]), array([[ 5.89337373e-01, -1.14333076e-01,  2.86672325e-03,\n",
            "        -1.36095431e-01, -7.30938195e-02,  4.14087107e-01],\n",
            "       [-4.17273988e-02,  1.21682569e-01, -2.36205559e-01,\n",
            "         2.28144225e-01, -8.97967045e-02, -4.93443230e-03],\n",
            "       [-3.05112248e-01, -9.28579828e-02, -6.09657660e-04,\n",
            "         2.43701820e-01, -5.92546735e-01,  9.10987026e-01],\n",
            "       [ 5.91086238e-01, -1.53558877e-06, -1.18702509e-02,\n",
            "        -5.78561364e-02,  3.59448561e-01, -5.44036564e-01],\n",
            "       [-6.42939628e-01, -6.34426138e-05, -2.00383176e-01,\n",
            "        -2.70607575e-01, -4.16417934e-01, -1.52079478e-01],\n",
            "       [-1.39547492e-01, -2.58742162e-01, -1.54020620e-01,\n",
            "         1.80759193e-03,  2.44167096e-01,  2.61291848e-01],\n",
            "       [ 1.73433265e-01, -1.11299767e-01,  4.20220485e-03,\n",
            "        -1.70500628e-11,  8.32653730e-01, -2.92815660e-01],\n",
            "       [ 5.22640975e-01, -2.63228571e-02, -5.22042146e-02,\n",
            "        -4.42217192e-02, -3.73391284e-02,  5.66586767e-01]]), array([[-0.47881023,  0.30150017,  0.85111943],\n",
            "       [-0.34489891, -0.10826583, -0.01700432],\n",
            "       [ 0.16191522,  0.38966153,  0.36607828],\n",
            "       [ 0.34802921, -0.08741531,  0.43055897],\n",
            "       [-0.58217454, -0.94205814,  0.94873785],\n",
            "       [-0.3326652 ,  0.71465119, -0.94679275]])]\n",
            "Model intercepts: [array([ 0.63319046,  0.08644556,  0.30014264, -0.42212841,  0.5255753 ,\n",
            "       -0.13409033,  0.61651264,  0.56374656,  0.56058636,  0.51954244,\n",
            "       -0.47842054,  0.02235982]), array([ 0.33246253,  0.32625224,  0.13118301, -0.37837775,  0.25677034,\n",
            "       -0.32394329,  0.19558461, -0.28794147, -0.42003774,  0.6641471 ]), array([0.22474152, 0.05653819, 0.50189553, 0.16109011, 0.41283518,\n",
            "       0.08746991, 0.43177156, 0.622524  ]), array([ 0.16105868, -0.09939084,  0.07160315, -0.37865611,  0.3370931 ,\n",
            "        0.16046906]), array([ 0.81271104,  0.24008203, -0.51393775])]\n"
          ]
        }
      ]
    },
    {
      "cell_type": "markdown",
      "source": [
        "### MLP Regression"
      ],
      "metadata": {
        "id": "JmOcIer8eA7O"
      }
    },
    {
      "cell_type": "code",
      "source": [
        "boston = pd.read_csv('/content/drive/MyDrive/DAV Lab/Week Seven/data/Boston.csv')\n",
        "print(boston.columns)\n",
        "X = boston.drop(['chas', 'age', 'ptratio', 'black', 'medv'], axis=1)\n",
        "y = boston['medv']\n",
        "\n",
        "X_train, X_test, y_train, y_test = train_test_split(X, y, test_size=0.2, random_state=0)\n",
        "\n",
        "# Normalise the data\n",
        "scaler = MinMaxScaler()\n",
        "X_train_norm = scaler.fit_transform(X_train)\n",
        "X_test_norm = scaler.transform(X_test)\n",
        "\n",
        "# Train the model\n",
        "model = MLPRegressor(hidden_layer_sizes=(5, 3), solver='lbfgs', max_iter=500)\n",
        "model.fit(X_train_norm, y_train)\n",
        "\n",
        "# Make predictions\n",
        "y_preds = model.predict(X_test_norm)\n",
        "\n",
        "# Evaluate the model\n",
        "score = model.score(X_test_norm, y_test)\n",
        "r2 = r2_score(y_test, y_preds)\n",
        "msle = mean_squared_log_error(y_test, y_preds)\n",
        "\n",
        "print(f'Model score: {score}')\n",
        "print(f'Model r2: {r2}')\n",
        "print(f'Model msle: {msle}')"
      ],
      "metadata": {
        "colab": {
          "base_uri": "https://localhost:8080/"
        },
        "id": "qb9z9HaEdjU3",
        "outputId": "6393e11f-ac2b-4f45-d109-d9d6a66fe2fc"
      },
      "execution_count": 5,
      "outputs": [
        {
          "output_type": "stream",
          "name": "stdout",
          "text": [
            "Index(['Unnamed: 0', 'crim', 'zn', 'indus', 'chas', 'nox', 'rm', 'age', 'dis',\n",
            "       'rad', 'tax', 'ptratio', 'black', 'lstat', 'medv'],\n",
            "      dtype='object')\n",
            "Model score: -0.001889807353118167\n",
            "Model r2: -0.001889807353118167\n",
            "Model msle: 0.14248647978373702\n"
          ]
        }
      ]
    },
    {
      "cell_type": "markdown",
      "source": [
        "### Support vector models: LinearSVC"
      ],
      "metadata": {
        "id": "e-tthrZaZ0K5"
      }
    },
    {
      "cell_type": "code",
      "source": [
        "# Using the same iris data and train-test split with normalisation.\n",
        "iris_data = pd.read_csv('/content/drive/MyDrive/DAV Lab/Week Seven/data/iris.txt')\n",
        "X = iris_data.drop('species', axis=1)\n",
        "y = iris_data['species']\n",
        "\n",
        "X_train, X_test, y_train, y_test = train_test_split(X, y, test_size=0.2, random_state=0)\n",
        "\n",
        "# Preprocessing: Normalise the features\n",
        "scaler = StandardScaler()\n",
        "X_train_norm = scaler.fit_transform(X_train)\n",
        "X_test_norm = scaler.transform(X_test)\n",
        "\n",
        "# Usin LinearSVC model\n",
        "model = LinearSVC(C=0.01, random_state=0)\n",
        "model.fit(X_train_norm, y_train)\n",
        "\n",
        "y_preds = model.predict(X_test_norm)\n",
        "\n",
        "print(classification_report(y_test, y_preds))\n",
        "cmat = confusion_matrix(y_test, y_preds, normalize='true')\n",
        "cmd = ConfusionMatrixDisplay(cmat)\n",
        "cmd.plot()\n",
        "plt.show()"
      ],
      "metadata": {
        "colab": {
          "base_uri": "https://localhost:8080/",
          "height": 629
        },
        "id": "DtpELkCwZKhw",
        "outputId": "45b39c74-0048-459d-d626-284c0e34ba9a"
      },
      "execution_count": 6,
      "outputs": [
        {
          "output_type": "stream",
          "name": "stdout",
          "text": [
            "              precision    recall  f1-score   support\n",
            "\n",
            "      setosa       1.00      1.00      1.00        11\n",
            "  versicolor       0.83      0.38      0.53        13\n",
            "   virginica       0.38      0.83      0.53         6\n",
            "\n",
            "    accuracy                           0.70        30\n",
            "   macro avg       0.74      0.74      0.68        30\n",
            "weighted avg       0.80      0.70      0.70        30\n",
            "\n"
          ]
        },
        {
          "output_type": "display_data",
          "data": {
            "text/plain": [
              "<Figure size 640x480 with 2 Axes>"
            ],
            "image/png": "[encoded data removed]"
          },
          "metadata": {}
        }
      ]
    }
  ]
}